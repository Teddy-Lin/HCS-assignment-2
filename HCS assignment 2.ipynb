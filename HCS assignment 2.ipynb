{
 "cells": [
  {
   "cell_type": "code",
   "execution_count": 2,
   "metadata": {},
   "outputs": [],
   "source": [
    "# Necessary imports\n",
    "import random\n",
    "from flask import Flask, request\n",
    "import random\n"
   ]
  },
  {
   "cell_type": "code",
   "execution_count": null,
   "metadata": {},
   "outputs": [],
   "source": [
    "# Initialize flask app\n",
    "app = Flask(__name__)\n",
    "\n",
    "# On the main page, return a random number (as a string)\n",
    "@app.route(\"/\", methods=['GET'])\n",
    "def first_api():\n",
    "    return str(random.randrange(1, 10))\n",
    "\n",
    "# On the add page, take two arguments, add them, and return the string\n",
    "@app.route(\"/add\", methods=['GET'])\n",
    "def second_api():\n",
    "    first = request.args.get(\"first\")\n",
    "    second = request.args.get(\"second\")\n",
    "    return str(int(first) + int(second))\n",
    "\n",
    "# Run the application\n",
    "app.run()"
   ]
  },
  {
   "cell_type": "code",
   "execution_count": null,
   "metadata": {},
   "outputs": [],
   "source": [
    "# Initialize flask app\n",
    "app = Flask(__name__)\n",
    "\n",
    "# On the main page, return a random number (as a string)\n",
    "@app.route(\"/\", methods=['GET'])\n",
    "def first_api():\n",
    "    return str(random.randrange(1, 10))\n",
    "\n",
    "#Run the app\n",
    "app.run()"
   ]
  },
  {
   "cell_type": "code",
   "execution_count": null,
   "metadata": {},
   "outputs": [],
   "source": [
    "# Necessary imports:\n",
    "import json\n",
    "import pandas as pd\n",
    "from sklearn.cluster import KMeans\n",
    "from sklearn.neighbors import KNeighborsClassifier\n",
    "from sklearn.metrics import confusion_matrix, accuracy_score\n",
    "from sklearn.preprocessing import LabelEncoder\n",
    "from sklearn.model_selection import cross_val_score\n",
    "from sklearn.cross_validation import train_test_split\n",
    "import matplotlib.pyplot as plt\n",
    "from pandas.plotting import parallel_coordinates\n",
    "import numpy as np\n",
    "import random\n",
    "import os\n",
    "\n",
    "# Setting up current directory:\n",
    "CURRENT_DIRECTORY = os.getcwd()"
   ]
  },
  {
   "cell_type": "code",
   "execution_count": null,
   "metadata": {},
   "outputs": [],
   "source": [
    "# Creating a pandas dataframe\n",
    "df = pd.DataFrame({\n",
    "    'x': [12, 20, 28, 18, 29, 33, 24, 45, 45, 52, 51, 52, 55, 53, 55, 61, 64, 69, 72],\n",
    "    'y': [39, 36, 30, 52, 54, 46, 55, 59, 63, 70, 66, 63, 58, 23, 14, 8, 19, 7, 24]\n",
    "})\n",
    "\n",
    "# Alternatively, use random datasets\n",
    "\"\"\"\n",
    "rands1 = [random.randint(0,100) for i in range(100)]\n",
    "rands2 = [random.randint(0,100) for i in range(100)]\n",
    "df = pd.DataFrame({\n",
    "    'x': rands1,\n",
    "    'y': rands2\n",
    "})\n",
    "\"\"\"\n",
    "\n",
    "# Using the sklearn KMeans algorithm to group data\n",
    "kmeans = KMeans(n_clusters=3)\n",
    "kmeans.fit(df)\n",
    "\n",
    "# Accessing the central points of each group \n",
    "centroids = kmeans.cluster_centers_\n",
    "\n",
    "# Accessing the labels of each point\n",
    "labels = kmeans.labels_\n",
    "\n",
    "\n",
    "# Plotting the results below\n",
    "fig = plt.figure(figsize=(5, 5))\n",
    "ax = fig.add_subplot(1,1,1)\n",
    "ax.scatter(df['x'], df['y'], c=labels.astype(np.float), edgecolor='k', s=40)"
   ]
  },
  {
   "cell_type": "code",
   "execution_count": null,
   "metadata": {},
   "outputs": [],
   "source": [
    "# Importing data from a txt file\n",
    "dataset = pd.read_txt(CURRENT_DIRECTORY + '/data_banknote_authentication.txt')\n",
    "\n",
    "# Adding an Id tag to the dataframe\n",
    "dataset['Id'] = range(150)\n",
    "\n",
    "# Ways to visualize the data:\n",
    "rows, cols = dataset.shape\n",
    "\n",
    "\n",
    "# Check how many of each species we have\n",
    "dataset.groupby('Class').size()\n",
    "\n",
    "# splitting up the labels and the values for each species:\n",
    "feature_columns = ['Variance of Wavelet Transformed image', 'Skewness of Wavelet Transformed image', 'Kurtosis of Wavelet Transformed image ','Entropy of image']\n",
    "X = dataset[feature_columns].values\n",
    "Y = dataset['Class'].values\n",
    "\n",
    "\n",
    "# Encoding Labels (Turning string species names into integers)\n",
    "# setosa -> 0\n",
    "# versicolor -> 1\n",
    "# virginica -> 2\n",
    "le = LabelEncoder()\n",
    "Y = le.fit_transform(Y)\n"
   ]
  },
  {
   "cell_type": "code",
   "execution_count": null,
   "metadata": {},
   "outputs": [],
   "source": [
    "# Data Visualization:\n",
    "plt.figure(figsize=(15,10))\n",
    "parallel_coordinates(dataset.drop(\"Id\", axis=1), \"Species\")\n",
    "plt.title('Parallel Coordinates Plot', fontsize=20, fontweight='bold')\n",
    "plt.xlabel('Features', fontsize=15)\n",
    "plt.ylabel('Features values', fontsize=15)\n",
    "plt.legend(loc=1, prop={'size': 15}, frameon=True,shadow=True, facecolor=\"white\", edgecolor=\"black\")\n",
    "plt.show()"
   ]
  },
  {
   "cell_type": "code",
   "execution_count": null,
   "metadata": {},
   "outputs": [],
   "source": [
    "# Splitting into training and test datasets:\n",
    "X_train, X_test, Y_train, Y_test = train_test_split(X, Y, test_size = 0.5, random_state = 0)\n",
    "\n",
    "# Creating the learning model\n",
    "knn_classifier = KNeighborsClassifier(n_neighbors=10)\n",
    "\n",
    "# Fitting the model with the training data\n",
    "knn_classifier.fit(X_train, Y_train)"
   ]
  },
  {
   "cell_type": "code",
   "execution_count": null,
   "metadata": {},
   "outputs": [],
   "source": [
    "# Making predictions with the test data (This line is also where we would potentially classify new data)\n",
    "Y_pred = knn_classifier.predict(X_test)\n",
    "print(Y_pred)\n",
    "\n",
    "# Finding Accuracy:\n",
    "accuracy = accuracy_score(Y_test, Y_pred)*100\n",
    "print('Accuracy of model: ' + str(round(accuracy, 2)) + ' %.')\n",
    "cm = confusion_matrix(Y_test, Y_pred)\n",
    "cm"
   ]
  },
  {
   "cell_type": "code",
   "execution_count": null,
   "metadata": {},
   "outputs": [],
   "source": [
    "# creating list of cv scores\n",
    "cv_scores = []\n",
    "\n",
    "# perform 10-fold cross validation\n",
    "for k in range(1, 50, 2):\n",
    "    knn = KNeighborsClassifier(n_neighbors=k)\n",
    "    scores = cross_val_score(knn, X_train, Y_train, cv=10, scoring='accuracy')\n",
    "    cv_scores.append(scores.mean())\n",
    "\n",
    "\n",
    "\n",
    "# Displaying results visually\n",
    "plt.figure()\n",
    "plt.figure(figsize=(15,10))\n",
    "plt.title('The optimal number of neighbors', fontsize=20, fontweight='bold')\n",
    "plt.xlabel('Number of Neighbors K', fontsize=15)\n",
    "plt.ylabel('Accuracy', fontsize=15)\n",
    "plt.plot(k_list, cv_scores)\n",
    "\n",
    "plt.show()"
   ]
  },
  {
   "cell_type": "code",
   "execution_count": null,
   "metadata": {},
   "outputs": [],
   "source": [
    "# Set up Flask App\n",
    "app = Flask(__name__)\n",
    "\n",
    "@app.route(\"/\", methods = ['GET'])\n",
    "def classify():\n",
    "    # array mapping numbers to flower names\n",
    "    classes = [ \"0\", \"1\"]\n",
    "    \n",
    "    # get values for each component, return error message if not a float\n",
    "    try:\n",
    "        values = [[float(request.args.get(component)) for component in [\"Variance of Wavelet Transformed image\", \"Skewness of Wavelet Transformed image\", \"Kurtosis of Wavelet Transformed image\", \"Entropy of image\"]]]\n",
    "    except TypeError:\n",
    "        return \"An error occured\\nUsage: 127.0.0.1:5000?sHeight=NUM&sWidth=NUM&pHeight=NUM&sHeight=NUM\"\n",
    "    \n",
    "    # Otherwise, return the prediction.\n",
    "    prediction = knn_classifier.predict(values)[0]\n",
    "    return classes[prediction]\n",
    "\n",
    "# Run the app.\n",
    "app.run()\n",
    "\n",
    "# try 127.0.0.1:5000?sHeight=5.2&sWidth=4.6&pHeight=4.2&sHeight=7.8"
   ]
  },
  {
   "cell_type": "code",
   "execution_count": null,
   "metadata": {},
   "outputs": [],
   "source": []
  }
 ],
 "metadata": {
  "kernelspec": {
   "display_name": "Python 3",
   "language": "python",
   "name": "python3"
  },
  "language_info": {
   "codemirror_mode": {
    "name": "ipython",
    "version": 3
   },
   "file_extension": ".py",
   "mimetype": "text/x-python",
   "name": "python",
   "nbconvert_exporter": "python",
   "pygments_lexer": "ipython3",
   "version": "3.7.3"
  }
 },
 "nbformat": 4,
 "nbformat_minor": 2
}
